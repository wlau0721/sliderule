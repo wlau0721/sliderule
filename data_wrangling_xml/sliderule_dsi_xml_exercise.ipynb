{
 "cells": [
  {
   "cell_type": "markdown",
   "metadata": {},
   "source": [
    "# XML example and exercise\n",
    "****\n",
    "+ study examples of accessing nodes in XML tree structure  \n",
    "+ work on exercise to be completed and submitted\n",
    "****\n",
    "+ reference: https://docs.python.org/2.7/library/xml.etree.elementtree.html\n",
    "+ data source: http://www.dbis.informatik.uni-goettingen.de/Mondial\n",
    "****"
   ]
  },
  {
   "cell_type": "code",
   "execution_count": 1,
   "metadata": {
    "collapsed": true
   },
   "outputs": [],
   "source": [
    "from xml.etree import ElementTree as ET"
   ]
  },
  {
   "cell_type": "markdown",
   "metadata": {},
   "source": [
    "## XML example\n",
    "\n",
    "+ for details about tree traversal and iterators, see https://docs.python.org/2.7/library/xml.etree.elementtree.html"
   ]
  },
  {
   "cell_type": "code",
   "execution_count": 2,
   "metadata": {
    "collapsed": false
   },
   "outputs": [],
   "source": [
    "document_tree = ET.parse( './data/mondial_database_less.xml' )"
   ]
  },
  {
   "cell_type": "code",
   "execution_count": 3,
   "metadata": {
    "collapsed": false
   },
   "outputs": [
    {
     "name": "stdout",
     "output_type": "stream",
     "text": [
      "Albania\n",
      "Greece\n",
      "Macedonia\n",
      "Serbia\n",
      "Montenegro\n",
      "Kosovo\n",
      "Andorra\n"
     ]
    }
   ],
   "source": [
    "# print names of all countries\n",
    "for child in document_tree.getroot():\n",
    "    print child.find('name').text"
   ]
  },
  {
   "cell_type": "code",
   "execution_count": 4,
   "metadata": {
    "collapsed": false
   },
   "outputs": [
    {
     "name": "stdout",
     "output_type": "stream",
     "text": [
      "* Albania: Tirana, Shkodër, Durrës, Vlorë, Elbasan, Korçë\n",
      "* Greece: Komotini, Kavala, Athina, Peiraias, Peristeri, Acharnes, Patra, Kozani, Kerkyra, Ioannina, Thessaloniki, Iraklio, Chania, Ermoupoli, Rhodes, Tripoli, Lamia, Chalkida, Larissa, Volos, Mytilini, Karyes\n",
      "* Macedonia: Skopje, Kumanovo\n",
      "* Serbia: Beograd, Novi Sad, Niš\n",
      "* Montenegro: Podgorica\n",
      "* Kosovo: Prishtine\n",
      "* Andorra: Andorra la Vella\n"
     ]
    }
   ],
   "source": [
    "# print names of all countries and their cities\n",
    "for element in document_tree.iterfind('country'):\n",
    "    print '* ' + element.find('name').text + ':',\n",
    "    capitals_string = ''\n",
    "    for subelement in element.getiterator('city'):\n",
    "        capitals_string += subelement.find('name').text + ', '\n",
    "    print capitals_string[:-2]"
   ]
  },
  {
   "cell_type": "code",
   "execution_count": 5,
   "metadata": {
    "collapsed": false
   },
   "outputs": [
    {
     "ename": "SyntaxError",
     "evalue": "invalid syntax (<ipython-input-5-9b6efd270427>, line 1)",
     "output_type": "error",
     "traceback": [
      "\u001b[1;36m  File \u001b[1;32m\"<ipython-input-5-9b6efd270427>\"\u001b[1;36m, line \u001b[1;32m1\u001b[0m\n\u001b[1;33m    ****\u001b[0m\n\u001b[1;37m     ^\u001b[0m\n\u001b[1;31mSyntaxError\u001b[0m\u001b[1;31m:\u001b[0m invalid syntax\n"
     ]
    }
   ],
   "source": [
    "****\n",
    "## XML exercise\n",
    "\n",
    "Using data in 'data/mondial_database.xml', the examples above, and refering to https://docs.python.org/2.7/library/xml.etree.elementtree.html, find\n",
    "\n",
    "1. 10 countries with the lowest infant mortality rates\n",
    "2. 10 cities with the largest population\n",
    "3. 10 ethnic groups with the largest overall populations (sum of best/latest estimates over all countries)\n",
    "4. name and country of a) longest river, b) largest lake and c) airport at highest elevation"
   ]
  },
  {
   "cell_type": "code",
   "execution_count": null,
   "metadata": {
    "collapsed": false
   },
   "outputs": [],
   "source": [
    "document = ET.parse( './data/mondial_database.xml' )"
   ]
  },
  {
   "cell_type": "code",
   "execution_count": 6,
   "metadata": {
    "collapsed": false
   },
   "outputs": [
    {
     "data": {
      "text/html": [
       "<div>\n",
       "<table border=\"1\" class=\"dataframe\">\n",
       "  <thead>\n",
       "    <tr style=\"text-align: right;\">\n",
       "      <th></th>\n",
       "      <th>Country_name</th>\n",
       "      <th>Infant_mortality</th>\n",
       "    </tr>\n",
       "  </thead>\n",
       "  <tbody>\n",
       "    <tr>\n",
       "      <th>38</th>\n",
       "      <td>Monaco</td>\n",
       "      <td>1.81</td>\n",
       "    </tr>\n",
       "    <tr>\n",
       "      <th>98</th>\n",
       "      <td>Japan</td>\n",
       "      <td>2.13</td>\n",
       "    </tr>\n",
       "    <tr>\n",
       "      <th>36</th>\n",
       "      <td>Norway</td>\n",
       "      <td>2.48</td>\n",
       "    </tr>\n",
       "    <tr>\n",
       "      <th>117</th>\n",
       "      <td>Bermuda</td>\n",
       "      <td>2.48</td>\n",
       "    </tr>\n",
       "    <tr>\n",
       "      <th>106</th>\n",
       "      <td>Singapore</td>\n",
       "      <td>2.53</td>\n",
       "    </tr>\n",
       "    <tr>\n",
       "      <th>37</th>\n",
       "      <td>Sweden</td>\n",
       "      <td>2.6</td>\n",
       "    </tr>\n",
       "    <tr>\n",
       "      <th>10</th>\n",
       "      <td>Czech Republic</td>\n",
       "      <td>2.63</td>\n",
       "    </tr>\n",
       "    <tr>\n",
       "      <th>78</th>\n",
       "      <td>Hong Kong</td>\n",
       "      <td>2.73</td>\n",
       "    </tr>\n",
       "    <tr>\n",
       "      <th>79</th>\n",
       "      <td>Macao</td>\n",
       "      <td>3.13</td>\n",
       "    </tr>\n",
       "    <tr>\n",
       "      <th>44</th>\n",
       "      <td>Iceland</td>\n",
       "      <td>3.15</td>\n",
       "    </tr>\n",
       "  </tbody>\n",
       "</table>\n",
       "</div>"
      ],
      "text/plain": [
       "       Country_name Infant_mortality\n",
       "38           Monaco             1.81\n",
       "98            Japan             2.13\n",
       "36           Norway             2.48\n",
       "117         Bermuda             2.48\n",
       "106       Singapore             2.53\n",
       "37           Sweden              2.6\n",
       "10   Czech Republic             2.63\n",
       "78        Hong Kong             2.73\n",
       "79            Macao             3.13\n",
       "44          Iceland             3.15"
      ]
     },
     "execution_count": 6,
     "metadata": {},
     "output_type": "execute_result"
    }
   ],
   "source": [
    "# 1. 10 countries with the lowest infant mortality rates\n",
    "import pandas as pd\n",
    "countryname = \"\"\n",
    "mortalityrate = \"\"\n",
    "document = ET.parse( './data/mondial_database.xml' )\n",
    "df = pd.DataFrame(columns=['Country_name','Infant_mortality']) #create data frame to hold country name and its mortality rate\n",
    "\n",
    "#loop through country elements to find country name and its mortality rate\n",
    "for country in document.findall( 'country' ):\n",
    "    for node in country.getiterator(): \n",
    "        if node.tag == 'name': #find country name tag\n",
    "            if countryname == \"\":\n",
    "                countryname = node.text\n",
    "        if node.tag == 'infant_mortality': #find mortality rate tag\n",
    "            mortalityrate = float(node.text)\n",
    "    df.loc[len(df)] = [countryname,mortalityrate] #add country name and mortality rate to data frame\n",
    "    countryname = \"\"\n",
    "    mortalityrate = \"\"\n",
    "\n",
    "#sort data frame and find top 10 countries with lowest mortalitiy rates\n",
    "df.sort('Infant_mortality',ascending=True).head(10)"
   ]
  },
  {
   "cell_type": "code",
   "execution_count": 7,
   "metadata": {
    "collapsed": false
   },
   "outputs": [
    {
     "data": {
      "text/html": [
       "<div>\n",
       "<table border=\"1\" class=\"dataframe\">\n",
       "  <thead>\n",
       "    <tr style=\"text-align: right;\">\n",
       "      <th></th>\n",
       "      <th>CityName</th>\n",
       "      <th>Population</th>\n",
       "    </tr>\n",
       "  </thead>\n",
       "  <tbody>\n",
       "    <tr>\n",
       "      <th>1341</th>\n",
       "      <td>Shanghai</td>\n",
       "      <td>22315474</td>\n",
       "    </tr>\n",
       "    <tr>\n",
       "      <th>771</th>\n",
       "      <td>Istanbul</td>\n",
       "      <td>13710512</td>\n",
       "    </tr>\n",
       "    <tr>\n",
       "      <th>1527</th>\n",
       "      <td>Mumbai</td>\n",
       "      <td>12442373</td>\n",
       "    </tr>\n",
       "    <tr>\n",
       "      <th>479</th>\n",
       "      <td>Moskva</td>\n",
       "      <td>11979529</td>\n",
       "    </tr>\n",
       "    <tr>\n",
       "      <th>1340</th>\n",
       "      <td>Beijing</td>\n",
       "      <td>11716620</td>\n",
       "    </tr>\n",
       "    <tr>\n",
       "      <th>2810</th>\n",
       "      <td>São Paulo</td>\n",
       "      <td>11152344</td>\n",
       "    </tr>\n",
       "    <tr>\n",
       "      <th>1342</th>\n",
       "      <td>Tianjin</td>\n",
       "      <td>11090314</td>\n",
       "    </tr>\n",
       "    <tr>\n",
       "      <th>1064</th>\n",
       "      <td>Guangzhou</td>\n",
       "      <td>11071424</td>\n",
       "    </tr>\n",
       "    <tr>\n",
       "      <th>1582</th>\n",
       "      <td>Delhi</td>\n",
       "      <td>11034555</td>\n",
       "    </tr>\n",
       "    <tr>\n",
       "      <th>1067</th>\n",
       "      <td>Shenzhen</td>\n",
       "      <td>10358381</td>\n",
       "    </tr>\n",
       "  </tbody>\n",
       "</table>\n",
       "</div>"
      ],
      "text/plain": [
       "       CityName  Population\n",
       "1341   Shanghai    22315474\n",
       "771    Istanbul    13710512\n",
       "1527     Mumbai    12442373\n",
       "479      Moskva    11979529\n",
       "1340    Beijing    11716620\n",
       "2810  São Paulo    11152344\n",
       "1342    Tianjin    11090314\n",
       "1064  Guangzhou    11071424\n",
       "1582      Delhi    11034555\n",
       "1067   Shenzhen    10358381"
      ]
     },
     "execution_count": 7,
     "metadata": {},
     "output_type": "execute_result"
    }
   ],
   "source": [
    "# 2. 10 cities with the largest population\n",
    "import pandas as pd\n",
    "cityname = \"\"\n",
    "citypopulation = long(0)\n",
    "document = ET.parse( './data/mondial_database.xml' )\n",
    "df = pd.DataFrame(columns=['CityName','Population']) #create data frame to hold country name and its popuplation\n",
    "\n",
    "#loop through country element to find city name and its population\n",
    "for country in document.iterfind( 'country' ):\n",
    "    for city in country.iter('city'): #find all cities within each country element\n",
    "        cityname = city.find('name').text\n",
    "        year = int(0)\n",
    "        for node in city.iterfind('population'): #find all population elements with each city\n",
    "            year = node.attrib['year'] #there are multiple population elements with different 'year' attribute\n",
    "            if node.attrib['year'] >= year: #store the population number of the latest year\n",
    "                citypopulation = long(node.text)\n",
    "        df.loc[len(df)] = [cityname,citypopulation] #add city name and its population to data frame\n",
    "        cityname = \"\"\n",
    "        citypopulation = long(0)\n",
    "\n",
    "#sort data frame to find 10 cities with largest population\n",
    "df.sort('Population', ascending=False).head(10)\n"
   ]
  },
  {
   "cell_type": "code",
   "execution_count": 8,
   "metadata": {
    "collapsed": false,
    "scrolled": true
   },
   "outputs": [
    {
     "data": {
      "text/html": [
       "<div>\n",
       "<table border=\"1\" class=\"dataframe\">\n",
       "  <thead>\n",
       "    <tr style=\"text-align: right;\">\n",
       "      <th></th>\n",
       "      <th>Population</th>\n",
       "    </tr>\n",
       "    <tr>\n",
       "      <th>EthnicGroup</th>\n",
       "      <th></th>\n",
       "    </tr>\n",
       "  </thead>\n",
       "  <tbody>\n",
       "    <tr>\n",
       "      <th>Han Chinese</th>\n",
       "      <td>1245058800</td>\n",
       "    </tr>\n",
       "    <tr>\n",
       "      <th>Indo-Aryan</th>\n",
       "      <td>871815583</td>\n",
       "    </tr>\n",
       "    <tr>\n",
       "      <th>European</th>\n",
       "      <td>494872221</td>\n",
       "    </tr>\n",
       "    <tr>\n",
       "      <th>African</th>\n",
       "      <td>318325122</td>\n",
       "    </tr>\n",
       "    <tr>\n",
       "      <th>Dravidian</th>\n",
       "      <td>302713744</td>\n",
       "    </tr>\n",
       "    <tr>\n",
       "      <th>Mestizo</th>\n",
       "      <td>157734355</td>\n",
       "    </tr>\n",
       "    <tr>\n",
       "      <th>Bengali</th>\n",
       "      <td>146776917</td>\n",
       "    </tr>\n",
       "    <tr>\n",
       "      <th>Russian</th>\n",
       "      <td>131856994</td>\n",
       "    </tr>\n",
       "    <tr>\n",
       "      <th>Japanese</th>\n",
       "      <td>126534212</td>\n",
       "    </tr>\n",
       "    <tr>\n",
       "      <th>Malay</th>\n",
       "      <td>121993550</td>\n",
       "    </tr>\n",
       "  </tbody>\n",
       "</table>\n",
       "</div>"
      ],
      "text/plain": [
       "             Population\n",
       "EthnicGroup            \n",
       "Han Chinese  1245058800\n",
       "Indo-Aryan    871815583\n",
       "European      494872221\n",
       "African       318325122\n",
       "Dravidian     302713744\n",
       "Mestizo       157734355\n",
       "Bengali       146776917\n",
       "Russian       131856994\n",
       "Japanese      126534212\n",
       "Malay         121993550"
      ]
     },
     "execution_count": 8,
     "metadata": {},
     "output_type": "execute_result"
    }
   ],
   "source": [
    "# 3. 10 ethnic groups with the largest overall populations (sum of best/latest estimates over all countries)\n",
    "import pandas as pd\n",
    "import numpy as num\n",
    "countryname = \"\"\n",
    "countrypopulation = long(0)\n",
    "ethnicpopulation = long(0)\n",
    "document = ET.parse( './data/mondial_database.xml' )\n",
    "df = pd.DataFrame(columns=['Country','EthnicGroup','Population'])\n",
    "\n",
    "#loop through country element to find ethnic groups and its population\n",
    "for country in document.iterfind( 'country' ):\n",
    "    countryname = country.find('name').text #find country name\n",
    "    year = int(0)\n",
    "    countrycpopulation = long(0)\n",
    "    for node in country.iterfind('population'): #find population of the country\n",
    "        year = node.attrib['year']\n",
    "        if node.attrib['year'] >= year: #find population of the latest year\n",
    "            countrypopulation = long(node.text) \n",
    "    ethnicname = None\n",
    "    ethnicpopulation = long(0)\n",
    "    for ethnic in country.iter('ethnicgroup'): #find all ethnic groups within the same country\n",
    "        ethnicname = ethnic.text\n",
    "        #compute each ethnic population: country population * ethnic group percentage\n",
    "        ethnicpopulation = round(float(ethnic.attrib['percentage']) * 0.01 * countrypopulation)\n",
    "        if ethnicname == None:\n",
    "            ethnicname = countryname\n",
    "            ethnicpopulation = countrypopulation\n",
    "        df.loc[len(df)] = [countryname,ethnicname,ethnicpopulation] #store ethnic group population to data frame\n",
    "    countryname = \"\"\n",
    "\n",
    "#group ethnic group across all countries and sum them up to find top 10 ethnic groups and its total population\n",
    "df.groupby('EthnicGroup').sum().sort('Population', ascending=False).head(10)"
   ]
  },
  {
   "cell_type": "code",
   "execution_count": 10,
   "metadata": {
    "collapsed": false
   },
   "outputs": [
    {
     "data": {
      "text/html": [
       "<div>\n",
       "<table border=\"1\" class=\"dataframe\">\n",
       "  <thead>\n",
       "    <tr style=\"text-align: right;\">\n",
       "      <th></th>\n",
       "      <th>Airport</th>\n",
       "      <th>Country</th>\n",
       "      <th>Elevation</th>\n",
       "      <th>countryname</th>\n",
       "    </tr>\n",
       "  </thead>\n",
       "  <tbody>\n",
       "    <tr>\n",
       "      <th>80</th>\n",
       "      <td>El Alto Intl</td>\n",
       "      <td>BOL</td>\n",
       "      <td>4063</td>\n",
       "      <td>Bolivia</td>\n",
       "    </tr>\n",
       "    <tr>\n",
       "      <th>219</th>\n",
       "      <td>Lhasa-Gonggar</td>\n",
       "      <td>CN</td>\n",
       "      <td>4005</td>\n",
       "      <td>China</td>\n",
       "    </tr>\n",
       "    <tr>\n",
       "      <th>241</th>\n",
       "      <td>Yushu Batang</td>\n",
       "      <td>CN</td>\n",
       "      <td>3963</td>\n",
       "      <td>China</td>\n",
       "    </tr>\n",
       "    <tr>\n",
       "      <th>813</th>\n",
       "      <td>Juliaca</td>\n",
       "      <td>PE</td>\n",
       "      <td>3827</td>\n",
       "      <td>Peru</td>\n",
       "    </tr>\n",
       "    <tr>\n",
       "      <th>815</th>\n",
       "      <td>Teniente Alejandro Velasco Astete Intl</td>\n",
       "      <td>PE</td>\n",
       "      <td>3311</td>\n",
       "      <td>Peru</td>\n",
       "    </tr>\n",
       "    <tr>\n",
       "      <th>82</th>\n",
       "      <td>Juana Azurduy De Padilla</td>\n",
       "      <td>BOL</td>\n",
       "      <td>2905</td>\n",
       "      <td>Bolivia</td>\n",
       "    </tr>\n",
       "    <tr>\n",
       "      <th>334</th>\n",
       "      <td>Mariscal Sucre Intl</td>\n",
       "      <td>EC</td>\n",
       "      <td>2813</td>\n",
       "      <td>Ecuador</td>\n",
       "    </tr>\n",
       "    <tr>\n",
       "      <th>805</th>\n",
       "      <td>Coronel Fap Alfredo Mendivil Duarte</td>\n",
       "      <td>PE</td>\n",
       "      <td>2719</td>\n",
       "      <td>Peru</td>\n",
       "    </tr>\n",
       "    <tr>\n",
       "      <th>807</th>\n",
       "      <td>Mayor General FAP Armando Revoredo Iglesias Ai...</td>\n",
       "      <td>PE</td>\n",
       "      <td>2677</td>\n",
       "      <td>Peru</td>\n",
       "    </tr>\n",
       "    <tr>\n",
       "      <th>692</th>\n",
       "      <td>Licenciado Adolfo Lopez Mateos Intl</td>\n",
       "      <td>MEX</td>\n",
       "      <td>2581</td>\n",
       "      <td>Mexico</td>\n",
       "    </tr>\n",
       "  </tbody>\n",
       "</table>\n",
       "</div>"
      ],
      "text/plain": [
       "                                               Airport Country  Elevation  \\\n",
       "80                                        El Alto Intl     BOL       4063   \n",
       "219                                      Lhasa-Gonggar      CN       4005   \n",
       "241                                       Yushu Batang      CN       3963   \n",
       "813                                            Juliaca      PE       3827   \n",
       "815             Teniente Alejandro Velasco Astete Intl      PE       3311   \n",
       "82                            Juana Azurduy De Padilla     BOL       2905   \n",
       "334                                Mariscal Sucre Intl      EC       2813   \n",
       "805                Coronel Fap Alfredo Mendivil Duarte      PE       2719   \n",
       "807  Mayor General FAP Armando Revoredo Iglesias Ai...      PE       2677   \n",
       "692                Licenciado Adolfo Lopez Mateos Intl     MEX       2581   \n",
       "\n",
       "    countryname  \n",
       "80      Bolivia  \n",
       "219       China  \n",
       "241       China  \n",
       "813        Peru  \n",
       "815        Peru  \n",
       "82      Bolivia  \n",
       "334     Ecuador  \n",
       "805        Peru  \n",
       "807        Peru  \n",
       "692      Mexico  "
      ]
     },
     "execution_count": 10,
     "metadata": {},
     "output_type": "execute_result"
    }
   ],
   "source": [
    "# 4. name and country of a) longest river, b) largest lake and c) airport at highest elevation\n",
    "\n",
    "import pandas as pd\n",
    "from xml.etree import ElementTree as ET\n",
    "document = ET.parse( './data/mondial_database.xml' )\n",
    "\n",
    "#loop through river element to river name, its country code(within attribute 'source') and its length\n",
    "dfriver = pd.DataFrame(columns=['RiverName','Country','Length'])\n",
    "for river in document.iter('river'):\n",
    "    for riverlength in river.iterfind('length'):\n",
    "        riverlength = float(riverlength.text)\n",
    "#####????? why there is an error for a = river.find('length').text >>> AttributeError: 'NoneType' object has no attribute 'attrib'\n",
    "    dfriver.loc[len(dfriver)] = [river.find('name').text, river.find('source').attrib['country'],riverlength]\n",
    "\n",
    "#loop through lake element to find its name, country code and its size\n",
    "dflake = pd.DataFrame(columns=['LakeName','Country','Area'])\n",
    "for lake in document.iter('lake'):\n",
    "    for lakearea in lake.iterfind('area'):\n",
    "        lakearea = float(lakearea.text)\n",
    "    dflake.loc[len(dflake)] = [lake.find('name').text, lake.attrib['country'],lakearea]\n",
    "\n",
    "#loop through airport element to find its name, country code and elevation\n",
    "dfair = pd.DataFrame(columns=['Airport','Country','Elevation'])\n",
    "for airport in document.iter('airport'):\n",
    "    for airporteleva in airport.iterfind('elevation'):\n",
    "        airporteleva = airporteleva.text\n",
    "        if airporteleva == None:\n",
    "            airporteleva = 0\n",
    "    dfair.loc[len(dfair)] = [airport.find('name').text, airport.attrib['country'],float(airporteleva)]\n",
    "\n",
    "#create a data frame with country code and its corresponding country name\n",
    "dfcountry = pd.DataFrame(columns=['Country','countryname'])\n",
    "for country in document.iterfind('country'):\n",
    "    dfcountry.loc[len(dfcountry)] = [country.attrib['car_code'],country.find('name').text]\n",
    "#merge country name data drame with river, lake and airport dataframe to associate country code and country name on the same row\n",
    "dfriver = pd.merge(dfriver,dfcountry,on='Country')\n",
    "dflake = pd.merge(dflake,dfcountry,on='Country')\n",
    "dfair = pd.merge(dfair,dfcountry,on='Country')\n",
    "\n",
    "#sort to find the top 10 longest river, largest lake and highest airport\n",
    "dfriver.sort('Length',ascending=False).head(10)\n",
    "dflake.sort('Area',ascending=False).head(10)\n",
    "dfair.sort('Elevation',ascending=False).head(10)"
   ]
  }
 ],
 "metadata": {
  "kernelspec": {
   "display_name": "Python 2",
   "language": "python",
   "name": "python2"
  },
  "language_info": {
   "codemirror_mode": {
    "name": "ipython",
    "version": 2
   },
   "file_extension": ".py",
   "mimetype": "text/x-python",
   "name": "python",
   "nbconvert_exporter": "python",
   "pygments_lexer": "ipython2",
   "version": "2.7.10"
  }
 },
 "nbformat": 4,
 "nbformat_minor": 0
}
