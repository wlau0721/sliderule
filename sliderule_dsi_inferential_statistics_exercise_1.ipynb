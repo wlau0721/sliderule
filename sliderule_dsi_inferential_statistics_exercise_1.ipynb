{
 "cells": [
  {
   "cell_type": "markdown",
   "metadata": {},
   "source": [
    "## What is the true normal human body temperature? \n",
    "\n",
    "#### Background\n",
    "\n",
    "The mean normal body temperature was held to be 37$^{\\circ}$C or 98.6$^{\\circ}$F for more than 120 years since it was first conceptualized and reported by Carl Wunderlich in a famous 1868 book. In 1992, this value was revised to 36.8$^{\\circ}$C or 98.2$^{\\circ}$F. \n",
    "\n",
    "#### Exercise\n",
    "In this exercise, you will analyze a dataset of human body temperatures and employ the concepts of hypothesis testing, confidence intervals, and statistical significance.\n",
    "\n",
    "Answer the following questions **in this notebook below and submit to your Github account**. \n",
    "\n",
    "1.  Is the distribution of body temperatures normal? \n",
    "    - Remember that this is a condition for the CLT, and hence the statistical tests we are using, to apply. \n",
    "2.  Is the true population mean really 98.6 degrees F?\n",
    "    - Bring out the one sample hypothesis test! In this situation, is it approriate to apply a z-test or a t-test? How will the result be different?\n",
    "3.  At what temperature should we consider someone's temperature to be \"abnormal\"?\n",
    "    - Start by computing the margin of error and confidence interval.\n",
    "4.  Is there a significant difference between males and females in normal temperature?\n",
    "    - Set up and solve for a two sample hypothesis testing.\n",
    "\n",
    "You can include written notes in notebook cells using Markdown: \n",
    "   - In the control panel at the top, choose Cell > Cell Type > Markdown\n",
    "   - Markdown syntax: http://nestacms.com/docs/creating-content/markdown-cheat-sheet\n",
    "\n",
    "#### Resources\n",
    "\n",
    "+ Information and data sources: http://www.amstat.org/publications/jse/datasets/normtemp.txt, http://www.amstat.org/publications/jse/jse_data_archive.htm\n",
    "+ Markdown syntax: http://nestacms.com/docs/creating-content/markdown-cheat-sheet\n",
    "\n",
    "****"
   ]
  },
  {
   "cell_type": "code",
   "execution_count": 23,
   "metadata": {
    "collapsed": true
   },
   "outputs": [],
   "source": [
    "import pandas as pd"
   ]
  },
  {
   "cell_type": "code",
   "execution_count": 24,
   "metadata": {
    "collapsed": false
   },
   "outputs": [],
   "source": [
    "df = pd.read_csv('data/human_body_temperature.csv')"
   ]
  },
  {
   "cell_type": "code",
   "execution_count": 25,
   "metadata": {
    "collapsed": false
   },
   "outputs": [],
   "source": [
    "import matplotlib\n",
    "import matplotlib.pyplot as plt\n",
    "import numpy as np\n",
    "from pylab import *\n",
    "import scipy.stats as stats"
   ]
  },
  {
   "cell_type": "markdown",
   "metadata": {},
   "source": [
    "# 1 - Is the distribution of body temperatures normal?\n",
    "\n",
    "Based on the fact that the sample size is over 30(130 in our dataset) and the shape of histogram is like a bell, I think the body temperatures are normally distributed. "
   ]
  },
  {
   "cell_type": "code",
   "execution_count": 26,
   "metadata": {
    "collapsed": false
   },
   "outputs": [
    {
     "data": {
      "image/png": "[encoded data removed]",
      "text/plain": [
       "<matplotlib.figure.Figure at 0x175983c8>"
      ]
     },
     "metadata": {},
     "output_type": "display_data"
    }
   ],
   "source": [
    "# Problem 1:\n",
    "# Is the distribution of body temperatures normal?\n",
    "\n",
    "%matplotlib inline\n",
    "t = sort(df.temperature)\n",
    "fit = stats.norm.pdf(t, np.mean(t), np.std(t))  #this is a fitting indeed\n",
    "plt.plot(t,fit,'-o')\n",
    "plt.hist(t,normed=True)      #use this to draw histogram\n",
    "plt.show() "
   ]
  },
  {
   "cell_type": "markdown",
   "metadata": {},
   "source": [
    "# 2 - Is the true population mean really 98.6 degrees F?\n",
    "\n",
    "Null hypothesis is the population mean for temperature is 98.6 degrees F\n",
    "\n",
    "Alternative hypothesis is the population mean is not equal to 98.6 degree F\n",
    "\n",
    "Based on the calculation in the cell below, z score is  5.476 and two sided p-value is 0.000000044.   \n",
    "\n",
    "Since p value is smaller than the significant level of 0.025, so I will reject the null hypothesis that population mean of the temperature is 98.6 degrees F\n",
    "\n",
    "# is it approriate to apply a z-test or a t-test? How will the result be different?\n",
    "\n",
    "Since we have a relatively large sample size, we can use z-test.  t-test will produce simiar result as z-test because degree of freedom is relatively higher in this case with 129.  \n"
   ]
  },
  {
   "cell_type": "code",
   "execution_count": 39,
   "metadata": {
    "collapsed": false
   },
   "outputs": [
    {
     "name": "stdout",
     "output_type": "stream",
     "text": [
      "z score is  5.476 and pvalue is 0.000000044\n",
      "t score is  5.476 and pvalue is 0.000000219\n"
     ]
    }
   ],
   "source": [
    "# Problem 2\n",
    "# 2 - Is the true population mean really 98.6 degrees F?\n",
    "t = sort(df.temperature)\n",
    "z = (98.6 - np.mean(t)) / (np.std(t) / sqrt(len(df)))\n",
    "print \"z score is %6.3F and pvalue is %10.9F\" % (z, stats.norm.sf(z)*2)\n",
    "print \"t score is %6.3F and pvalue is %10.9F\" % (z, stats.t.sf(z, len(df)-1)*2)\n"
   ]
  },
  {
   "cell_type": "markdown",
   "metadata": {},
   "source": [
    "# At what temperature should we consider someone's temperature to be \"abnormal\"?\n",
    "\n",
    "Based the calculation of the margin of error and confidence interval in the cell below, temperature become abnormal when it is lower than 96.82 F or higher than 99.68 F.\n",
    "\n"
   ]
  },
  {
   "cell_type": "code",
   "execution_count": 41,
   "metadata": {
    "collapsed": false
   },
   "outputs": [
    {
     "name": "stdout",
     "output_type": "stream",
     "text": [
      "Confidence Interval is with 95% confidence level: 96.8177558267 99.6807057117\n"
     ]
    }
   ],
   "source": [
    "# Problem 3:\n",
    "#At what temperature should we consider someone's temperature to be \"abnormal\"?\n",
    "# Start by computing the margin of error and confidence interval.\n",
    "\n",
    "#assuming using 95% confidence level\n",
    "marginoferror = stats.norm.ppf(0.975) * np.std(t)\n",
    "print \"Confidence Interval is with 95% confidence level:\", np.mean(t) - marginoferror, np.mean(t) + marginoferror\n"
   ]
  },
  {
   "cell_type": "markdown",
   "metadata": {},
   "source": [
    "# Is there a significant difference between males and females in normal temperature?\n",
    "\n",
    "Based on the two sample test in the cell below, the males and females temperature are sigificantly difference.  P value for the two side t test statistics is 0.0001 which is smaller than the sigificant level 0.05.  So, I am rejecting the null hypothesis that the average males temperature is the same as females temperature.  \n"
   ]
  },
  {
   "cell_type": "code",
   "execution_count": 42,
   "metadata": {
    "collapsed": false
   },
   "outputs": [
    {
     "name": "stdout",
     "output_type": "stream",
     "text": [
      "t-statistic =  3.958 p-value = 0.0001\n"
     ]
    }
   ],
   "source": [
    "# Problem 4:\n",
    "# Null hypothesis is that the difference between mean for male and female is zero.\n",
    "# Alternative hypothesis is that the difference between mean for male and female is not zero. \n",
    "\n",
    "#standard error for two sample testing\n",
    "standerror = sqrt(df.groupby('gender').std()['temperature']['F']**2/df[df['gender'] == 'F'].size + \\\n",
    "df.groupby('gender').std()['temperature']['M']**2/df[df['gender'] == 'M'].size)\n",
    "\n",
    "#degree of freedom is \n",
    "dfreedom = min(df[df['gender'] == 'F'].size - 1,df[df['gender'] == 'M'].size - 1) \n",
    "\n",
    "# T score\n",
    "tscore =  (abs(df.groupby('gender').mean()['temperature']['F'] - df.groupby('gender').mean()['temperature']['M']) - 0) / standerror\n",
    "pval = stats.t.sf(np.abs(tscore), dfreedom)*2\n",
    "print 't-statistic = %6.3f p-value = %6.4f' % (tscore, pval)\n"
   ]
  }
 ],
 "metadata": {
  "kernelspec": {
   "display_name": "Python 2",
   "language": "python",
   "name": "python2"
  },
  "language_info": {
   "codemirror_mode": {
    "name": "ipython",
    "version": 2
   },
   "file_extension": ".py",
   "mimetype": "text/x-python",
   "name": "python",
   "nbconvert_exporter": "python",
   "pygments_lexer": "ipython2",
   "version": "2.7.10"
  }
 },
 "nbformat": 4,
 "nbformat_minor": 0
}
