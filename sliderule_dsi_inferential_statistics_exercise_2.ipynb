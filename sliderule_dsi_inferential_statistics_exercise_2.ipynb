{
 "cells": [
  {
   "cell_type": "markdown",
   "metadata": {},
   "source": [
    "\n",
    "### Examining racial discrimination in the US job market\n",
    "\n",
    "#### Background\n",
    "Racial discrimination continues to be pervasive in cultures throughout the world. Researchers examined the level of racial discrimination in the United States labor market by randomly assigning identical résumés black-sounding or white-sounding names and observing the impact on requests for interviews from employers.\n",
    "\n",
    "#### Data\n",
    "In the dataset provided, each row represents a resume. The 'race' column has two values, 'b' and 'w', indicating black-sounding and white-sounding. The column 'call' has two values, 1 and 0, indicating whether the resume received a call from employers or not.\n",
    "\n",
    "Note that the 'b' and 'w' values in race are assigned randomly to the resumes.\n",
    "\n",
    "#### Exercise\n",
    "You will perform a statistical analysis to establish whether race has a significant impact on the rate of callbacks for resumes.\n",
    "\n",
    "Answer the following questions **in this notebook below and submit to your Github account**. \n",
    "\n",
    "   1. What test is appropriate for this problem? Does CLT apply?\n",
    "   2. What are the null and alternate hypotheses?\n",
    "   3. Compute margin of error, confidence interval, and p-value.\n",
    "   4. Discuss statistical significance.\n",
    "\n",
    "You can include written notes in notebook cells using Markdown: \n",
    "   - In the control panel at the top, choose Cell > Cell Type > Markdown\n",
    "   - Markdown syntax: http://nestacms.com/docs/creating-content/markdown-cheat-sheet\n",
    "\n",
    "\n",
    "#### Resources\n",
    "+ Experiment information and data source: http://www.povertyactionlab.org/evaluation/discrimination-job-market-united-states\n",
    "+ Scipy statistical methods: http://docs.scipy.org/doc/scipy/reference/stats.html \n",
    "+ Markdown syntax: http://nestacms.com/docs/creating-content/markdown-cheat-sheet\n",
    "\n",
    "****"
   ]
  },
  {
   "cell_type": "code",
   "execution_count": 2,
   "metadata": {
    "collapsed": true
   },
   "outputs": [],
   "source": [
    "import pandas as pd\n",
    "import numpy as np\n",
    "from scipy import stats"
   ]
  },
  {
   "cell_type": "code",
   "execution_count": 3,
   "metadata": {
    "collapsed": false
   },
   "outputs": [],
   "source": [
    "data = pd.io.stata.read_stata('data/us_job_market_discrimination.dta')"
   ]
  },
  {
   "cell_type": "code",
   "execution_count": 4,
   "metadata": {
    "collapsed": false
   },
   "outputs": [
    {
     "name": "stdout",
     "output_type": "stream",
     "text": [
      "black callback 157.00 and white call back is 235.00\n"
     ]
    }
   ],
   "source": [
    "# number of callbacks for balck-sounding names\n",
    "print \"black callback %3.2F and white call back is %3.2F\" % (sum(data[data.race=='b'].call), sum(data[data.race=='w'].call))"
   ]
  },
  {
   "cell_type": "markdown",
   "metadata": {},
   "source": [
    "### 1. What test is appropriate for this problem? Does CLT apply?\n",
    "\n",
    "We can use the two proportion sampling testing without pairing to test.  We can compare the proportion of black and white between the group with callback and the group without callback.  This two sampleing test should be non-pairing because the members in the callback group is not related to the members in the non-callback group.\n",
    "\n",
    "we can use this test because it meets the criteria.  \n",
    "- Sampling within group and between group seem to be random and less than 10% of population.  \n",
    "- There are more than 10 successes and failures cases - Black callback total is 157 while white callback is 235. \n",
    "\n",
    "Based on the citeria above, the distribution is deemed to be normal and CLT should be applied for this test. \n"
   ]
  },
  {
   "cell_type": "markdown",
   "metadata": {
    "collapsed": true
   },
   "source": [
    " ### 2. What are the null and alternate hypotheses?\n",
    "\n",
    "- The null hypthosis is that the proportion for race w in callback group - proportion for race w in non-callback group = 0\n",
    "- The alternative hypothesis is that the proportion for race w in callback group - proportion for race w in non-callback group <> 0"
   ]
  },
  {
   "cell_type": "markdown",
   "metadata": {},
   "source": [
    "### 3. Compute margin of error, confidence interval, and p-value.\n",
    "\n",
    "Based on the computation in the cell below, the value for margin of error, confidence interval and p-value are:\n",
    "- Margin of error: 0.051\n",
    "- Confidence Interval: between 0.058 and 0.159\n",
    "- p-value: 0.00002847 (two sides)\n",
    "\n",
    "\n",
    "### 4.    Discuss statistical significance.\n",
    "\n",
    "Since the p-value is lower than 0.05 significant level, I am rejecting the null hyperposis that the portion for race white with callback is the same as without callback.  "
   ]
  },
  {
   "cell_type": "code",
   "execution_count": 17,
   "metadata": {
    "collapsed": false
   },
   "outputs": [
    {
     "name": "stdout",
     "output_type": "stream",
     "text": [
      "margin of error is 0.051\n",
      "confidence interval is between 0.058 and 0.159\n",
      "p-value is 0.00002847\n"
     ]
    }
   ],
   "source": [
    "#to find proportion for white with and without callback\n",
    "callback = data.race[data.call == 1]\n",
    "nocallback = data.race[data.call == 0]\n",
    "wpcallback = sum(callback == 'w') / float(callback.size)\n",
    "wpnocallback = sum(nocallback == 'w') / float(nocallback.size)\n",
    "\n",
    "#margin of error\n",
    "se = np.sqrt(wpcallback*(1-wpcallback)/callback.size + wpnocallback*(1-wpnocallback)/nocallback.size)\n",
    "#z score is 1.96 for 2 sides 95% confidence\n",
    "me = stats.norm.ppf(0.975) * se\n",
    "print \"margin of error is %5.3F\" % (me)\n",
    "\n",
    "#confidence interval - point of estimate + or - margin of error\n",
    "print \"confidence interval is between %5.3F and %5.3F\" % (wpcallback - wpnocallback - me, wpcallback - wpnocallback + me)\n",
    "\n",
    "#p-value  = \n",
    "teststats = (wpcallback-wpnocallback) / se  #test statistic\n",
    "print \"p-value is %9.8F\" % (stats.norm.sf(teststats)*2)\n",
    "\n"
   ]
  }
 ],
 "metadata": {
  "kernelspec": {
   "display_name": "Python 2",
   "language": "python",
   "name": "python2"
  },
  "language_info": {
   "codemirror_mode": {
    "name": "ipython",
    "version": 2
   },
   "file_extension": ".py",
   "mimetype": "text/x-python",
   "name": "python",
   "nbconvert_exporter": "python",
   "pygments_lexer": "ipython2",
   "version": "2.7.10"
  }
 },
 "nbformat": 4,
 "nbformat_minor": 0
}
